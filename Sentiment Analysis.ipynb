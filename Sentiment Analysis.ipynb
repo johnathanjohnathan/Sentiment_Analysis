{
 "cells": [
  {
   "cell_type": "markdown",
   "id": "32f859b5",
   "metadata": {},
   "source": [
    "# Use Case Summary"
   ]
  },
  {
   "cell_type": "markdown",
   "id": "a7b5b45e",
   "metadata": {},
   "source": [
    "## Objective Statement\n",
    "- To get insight how many hotel that has positive and negative review\n",
    "- To get insight how many hotel based on their rating\n",
    "- Create modeling using Machine Learning to classify hotel based on their review"
   ]
  },
  {
   "cell_type": "markdown",
   "id": "ee38319c",
   "metadata": {},
   "source": [
    "## Challenges\n",
    "- Large size of data, can not be maintained by excel spreadsheet."
   ]
  },
  {
   "cell_type": "markdown",
   "id": "8467539d",
   "metadata": {},
   "source": [
    "## Methodology / Analytic Technique\n",
    "* Descriptive Analysis: to find out information on current conditions based on the data that has been collected.\n",
    "* Graph Analysis: provide information from the graph.\n",
    "* Modelling : Machine Learning Classification."
   ]
  },
  {
   "cell_type": "markdown",
   "id": "659e2801",
   "metadata": {},
   "source": [
    "## Expected Outcome \n",
    "- Know how many hotel that has positive and negative review\n",
    "- Know how many hotel based on their rating\n",
    "- Create modeling using Machine Learning to classify hotel based on their review"
   ]
  },
  {
   "cell_type": "markdown",
   "id": "e53520d2",
   "metadata": {},
   "source": [
    "<HR>"
   ]
  },
  {
   "cell_type": "markdown",
   "id": "8f6ea6b8",
   "metadata": {},
   "source": [
    "# Business Understanding\n",
    "hotel, building that provides lodging, meals, and other services to the traveling public on a commercial basis. Hotel review is one of the most important aspect when a customer want to book the room. Because with the review customer could know how the hotel is. Thus in this project has some business questions using the hotel review data :\n",
    "- How many hotel that has positive and negative review?\n",
    "- How many hotel based on their rating ?\n",
    "- How to produce modeling using Machine Learning to predict customer churn?"
   ]
  },
  {
   "cell_type": "markdown",
   "id": "670d6f1f",
   "metadata": {},
   "source": [
    "# Data Understanding"
   ]
  },
  {
   "cell_type": "markdown",
   "id": "67da22a6",
   "metadata": {},
   "source": [
    "# Source Data\n",
    "Review Hotel Jakarta  = https://github.com/faridasroful/Sentiment-Analysis-Hotel-Review/blob/main/reviewHotelJakarta.csv\n",
    "\n",
    "The dataset has 4 columns and 210 rows"
   ]
  },
  {
   "cell_type": "markdown",
   "id": "a130c2d7",
   "metadata": {},
   "source": [
    "## Data Dictionary\n",
    "\n",
    "* hotel name : the name of the hotel\n",
    "* name : the name of the reviewer\n",
    "* rating : the rating that the reviewer give to the hotel with number between 1 and 5\n",
    "* review : the review that reviewer give to the hotel based on the rating they gave\n"
   ]
  },
  {
   "cell_type": "markdown",
   "id": "ea2dab53",
   "metadata": {},
   "source": [
    "<HR>"
   ]
  },
  {
   "cell_type": "markdown",
   "id": "31c8ce91",
   "metadata": {},
   "source": [
    "# Data Preparation\n",
    "* Programming Language : Python Version 3.9.12 \n",
    "* Libraries : Pandas, Numpy, Matplotlib, Seaborn, Sklearn, Imblearn"
   ]
  },
  {
   "cell_type": "markdown",
   "id": "1d5282fb",
   "metadata": {},
   "source": [
    "## Import Library"
   ]
  },
  {
   "cell_type": "code",
   "execution_count": 49,
   "id": "8e9762d8",
   "metadata": {},
   "outputs": [
    {
     "name": "stderr",
     "output_type": "stream",
     "text": [
      "[nltk_data] Downloading package stopwords to\n",
      "[nltk_data]     C:\\Users\\John\\AppData\\Roaming\\nltk_data...\n",
      "[nltk_data]   Package stopwords is already up-to-date!\n",
      "[nltk_data] Downloading package wordnet to\n",
      "[nltk_data]     C:\\Users\\John\\AppData\\Roaming\\nltk_data...\n",
      "[nltk_data]   Package wordnet is already up-to-date!\n",
      "[nltk_data] Downloading package omw-1.4 to\n",
      "[nltk_data]     C:\\Users\\John\\AppData\\Roaming\\nltk_data...\n",
      "[nltk_data]   Package omw-1.4 is already up-to-date!\n"
     ]
    }
   ],
   "source": [
    "import pandas as pd\n",
    "import numpy as np\n",
    "from sklearn.model_selection import train_test_split\n",
    "from sklearn.feature_extraction.text import TfidfVectorizer\n",
    "from sklearn.metrics import classification_report\n",
    "from sklearn.metrics import confusion_matrix\n",
    "from sklearn.linear_model import LogisticRegression\n",
    "from sklearn.model_selection import cross_val_score\n",
    "from sklearn.model_selection import GridSearchCV\n",
    "import matplotlib.pyplot as plt\n",
    "import seaborn as sns\n",
    "import plotly.io as pio\n",
    "pio.renderers.default = 'iframe'\n",
    "import plotly.offline as pyoff\n",
    "import plotly.graph_objs as go\n",
    "import plotly.express as px\n",
    "%matplotlib inline\n",
    "\n",
    "import string \n",
    "import re\n",
    "\n",
    "import nltk\n",
    "nltk.download('stopwords')\n",
    "from nltk.corpus import stopwords\n",
    "all_stopwords = stopwords.words('english')\n",
    "all_stopwords.remove('not')\n",
    "nltk.download('wordnet')\n",
    "nltk.download('omw-1.4')\n",
    "\n",
    "#set warning\n",
    "import warnings\n",
    "warnings.filterwarnings('ignore')"
   ]
  },
  {
   "cell_type": "markdown",
   "id": "96a7ed24",
   "metadata": {},
   "source": [
    "<HR>"
   ]
  },
  {
   "cell_type": "markdown",
   "id": "dbe08e77",
   "metadata": {},
   "source": [
    "## Data Profiling"
   ]
  },
  {
   "cell_type": "markdown",
   "id": "d3edca37",
   "metadata": {},
   "source": [
    "We load \"reviewHotelJakarta\" dataset\n",
    "\n",
    "And display the top 10 rows of the dataset"
   ]
  },
  {
   "cell_type": "code",
   "execution_count": 2,
   "id": "b354e211",
   "metadata": {},
   "outputs": [
    {
     "data": {
      "text/html": [
       "<div>\n",
       "<style scoped>\n",
       "    .dataframe tbody tr th:only-of-type {\n",
       "        vertical-align: middle;\n",
       "    }\n",
       "\n",
       "    .dataframe tbody tr th {\n",
       "        vertical-align: top;\n",
       "    }\n",
       "\n",
       "    .dataframe thead th {\n",
       "        text-align: right;\n",
       "    }\n",
       "</style>\n",
       "<table border=\"1\" class=\"dataframe\">\n",
       "  <thead>\n",
       "    <tr style=\"text-align: right;\">\n",
       "      <th></th>\n",
       "      <th>Hotel_name</th>\n",
       "      <th>name</th>\n",
       "      <th>rating</th>\n",
       "      <th>review</th>\n",
       "    </tr>\n",
       "  </thead>\n",
       "  <tbody>\n",
       "    <tr>\n",
       "      <th>0</th>\n",
       "      <td>Hotel Gran Mahakam</td>\n",
       "      <td>Robert Gow</td>\n",
       "      <td>4.0</td>\n",
       "      <td>Old boutique hotel but very well maintained. R...</td>\n",
       "    </tr>\n",
       "    <tr>\n",
       "      <th>1</th>\n",
       "      <td>Hotel Gran Mahakam</td>\n",
       "      <td>Oggi Gunadi</td>\n",
       "      <td>5.0</td>\n",
       "      <td>Outstanding service from the first sight. Firs...</td>\n",
       "    </tr>\n",
       "    <tr>\n",
       "      <th>2</th>\n",
       "      <td>Hotel Gran Mahakam</td>\n",
       "      <td>Fifi Muliadi</td>\n",
       "      <td>5.0</td>\n",
       "      <td>When I was working, I frequently visited the h...</td>\n",
       "    </tr>\n",
       "    <tr>\n",
       "      <th>3</th>\n",
       "      <td>Hotel Gran Mahakam</td>\n",
       "      <td>Renatha P</td>\n",
       "      <td>5.0</td>\n",
       "      <td>Having all you can eat luncheon in private roo...</td>\n",
       "    </tr>\n",
       "    <tr>\n",
       "      <th>4</th>\n",
       "      <td>Hotel Gran Mahakam</td>\n",
       "      <td>Swathi V</td>\n",
       "      <td>5.0</td>\n",
       "      <td>My stay was a combination of quarantine and no...</td>\n",
       "    </tr>\n",
       "  </tbody>\n",
       "</table>\n",
       "</div>"
      ],
      "text/plain": [
       "           Hotel_name          name  rating  \\\n",
       "0  Hotel Gran Mahakam    Robert Gow     4.0   \n",
       "1  Hotel Gran Mahakam   Oggi Gunadi     5.0   \n",
       "2  Hotel Gran Mahakam  Fifi Muliadi     5.0   \n",
       "3  Hotel Gran Mahakam     Renatha P     5.0   \n",
       "4  Hotel Gran Mahakam      Swathi V     5.0   \n",
       "\n",
       "                                              review  \n",
       "0  Old boutique hotel but very well maintained. R...  \n",
       "1  Outstanding service from the first sight. Firs...  \n",
       "2  When I was working, I frequently visited the h...  \n",
       "3  Having all you can eat luncheon in private roo...  \n",
       "4  My stay was a combination of quarantine and no...  "
      ]
     },
     "execution_count": 2,
     "metadata": {},
     "output_type": "execute_result"
    }
   ],
   "source": [
    "df = pd.read_csv('dataset/reviewHotelJakarta.csv',encoding='latin-1')\n",
    "df.head()"
   ]
  },
  {
   "cell_type": "markdown",
   "id": "a1e75c7f",
   "metadata": {},
   "source": [
    "The table above display the top 10 rows of the reviewHotelJakarta dataset\n",
    "\n",
    "We display the total rows and data type of each columns"
   ]
  },
  {
   "cell_type": "code",
   "execution_count": 3,
   "id": "074ccbe7",
   "metadata": {},
   "outputs": [
    {
     "name": "stdout",
     "output_type": "stream",
     "text": [
      "<class 'pandas.core.frame.DataFrame'>\n",
      "RangeIndex: 210 entries, 0 to 209\n",
      "Data columns (total 4 columns):\n",
      " #   Column      Non-Null Count  Dtype  \n",
      "---  ------      --------------  -----  \n",
      " 0   Hotel_name  210 non-null    object \n",
      " 1   name        210 non-null    object \n",
      " 2   rating      210 non-null    float64\n",
      " 3   review      210 non-null    object \n",
      "dtypes: float64(1), object(3)\n",
      "memory usage: 6.7+ KB\n"
     ]
    }
   ],
   "source": [
    "df.info()"
   ]
  },
  {
   "cell_type": "markdown",
   "id": "8c7f2247",
   "metadata": {},
   "source": [
    "reviewHotelJakarta dataset store **4 columns** with **210 rows** of data. And the data type of dataset contain object and int64."
   ]
  },
  {
   "cell_type": "markdown",
   "id": "ab74ef7e",
   "metadata": {},
   "source": [
    "Renaming the column name of the dataset"
   ]
  },
  {
   "cell_type": "code",
   "execution_count": 4,
   "id": "51f585ca",
   "metadata": {},
   "outputs": [
    {
     "data": {
      "text/html": [
       "<div>\n",
       "<style scoped>\n",
       "    .dataframe tbody tr th:only-of-type {\n",
       "        vertical-align: middle;\n",
       "    }\n",
       "\n",
       "    .dataframe tbody tr th {\n",
       "        vertical-align: top;\n",
       "    }\n",
       "\n",
       "    .dataframe thead th {\n",
       "        text-align: right;\n",
       "    }\n",
       "</style>\n",
       "<table border=\"1\" class=\"dataframe\">\n",
       "  <thead>\n",
       "    <tr style=\"text-align: right;\">\n",
       "      <th></th>\n",
       "      <th>hotel_name</th>\n",
       "      <th>name</th>\n",
       "      <th>rating</th>\n",
       "      <th>review</th>\n",
       "    </tr>\n",
       "  </thead>\n",
       "  <tbody>\n",
       "    <tr>\n",
       "      <th>0</th>\n",
       "      <td>Hotel Gran Mahakam</td>\n",
       "      <td>Robert Gow</td>\n",
       "      <td>4.0</td>\n",
       "      <td>Old boutique hotel but very well maintained. R...</td>\n",
       "    </tr>\n",
       "    <tr>\n",
       "      <th>1</th>\n",
       "      <td>Hotel Gran Mahakam</td>\n",
       "      <td>Oggi Gunadi</td>\n",
       "      <td>5.0</td>\n",
       "      <td>Outstanding service from the first sight. Firs...</td>\n",
       "    </tr>\n",
       "    <tr>\n",
       "      <th>2</th>\n",
       "      <td>Hotel Gran Mahakam</td>\n",
       "      <td>Fifi Muliadi</td>\n",
       "      <td>5.0</td>\n",
       "      <td>When I was working, I frequently visited the h...</td>\n",
       "    </tr>\n",
       "    <tr>\n",
       "      <th>3</th>\n",
       "      <td>Hotel Gran Mahakam</td>\n",
       "      <td>Renatha P</td>\n",
       "      <td>5.0</td>\n",
       "      <td>Having all you can eat luncheon in private roo...</td>\n",
       "    </tr>\n",
       "    <tr>\n",
       "      <th>4</th>\n",
       "      <td>Hotel Gran Mahakam</td>\n",
       "      <td>Swathi V</td>\n",
       "      <td>5.0</td>\n",
       "      <td>My stay was a combination of quarantine and no...</td>\n",
       "    </tr>\n",
       "  </tbody>\n",
       "</table>\n",
       "</div>"
      ],
      "text/plain": [
       "           hotel_name          name  rating  \\\n",
       "0  Hotel Gran Mahakam    Robert Gow     4.0   \n",
       "1  Hotel Gran Mahakam   Oggi Gunadi     5.0   \n",
       "2  Hotel Gran Mahakam  Fifi Muliadi     5.0   \n",
       "3  Hotel Gran Mahakam     Renatha P     5.0   \n",
       "4  Hotel Gran Mahakam      Swathi V     5.0   \n",
       "\n",
       "                                              review  \n",
       "0  Old boutique hotel but very well maintained. R...  \n",
       "1  Outstanding service from the first sight. Firs...  \n",
       "2  When I was working, I frequently visited the h...  \n",
       "3  Having all you can eat luncheon in private roo...  \n",
       "4  My stay was a combination of quarantine and no...  "
      ]
     },
     "execution_count": 4,
     "metadata": {},
     "output_type": "execute_result"
    }
   ],
   "source": [
    "df.columns = ['hotel_name','name','rating','review']\n",
    "df.head()"
   ]
  },
  {
   "cell_type": "markdown",
   "id": "75cad305",
   "metadata": {},
   "source": [
    "display top 4 rows of the dataset to see the renaming column result"
   ]
  },
  {
   "cell_type": "markdown",
   "id": "6147abf9",
   "metadata": {},
   "source": [
    "<HR>"
   ]
  },
  {
   "cell_type": "markdown",
   "id": "68fca962",
   "metadata": {},
   "source": [
    "# Data Cleansing"
   ]
  },
  {
   "cell_type": "code",
   "execution_count": 31,
   "id": "228002de",
   "metadata": {},
   "outputs": [
    {
     "data": {
      "text/plain": [
       "hotel_name           0\n",
       "name                 0\n",
       "rating               0\n",
       "review               0\n",
       "cleaned_text         0\n",
       "label                0\n",
       "review_len           0\n",
       "punct                0\n",
       "tokens               0\n",
       "lemmatized_review    0\n",
       "dtype: int64"
      ]
     },
     "execution_count": 31,
     "metadata": {},
     "output_type": "execute_result"
    }
   ],
   "source": [
    "df.isna().sum()"
   ]
  },
  {
   "cell_type": "markdown",
   "id": "9c5203b0",
   "metadata": {},
   "source": [
    "There is no missing value in the dataset"
   ]
  },
  {
   "cell_type": "markdown",
   "id": "97ede29b",
   "metadata": {},
   "source": [
    "<HR>"
   ]
  },
  {
   "cell_type": "markdown",
   "id": "4eaefe1f",
   "metadata": {},
   "source": [
    "## Preprocessing Data\n",
    "In this part we make sure all of the review as lower case and labeling the review into 2 class there are 1 and 0"
   ]
  },
  {
   "cell_type": "code",
   "execution_count": 30,
   "id": "f0df6057",
   "metadata": {},
   "outputs": [],
   "source": [
    "def clean_text(text):\n",
    "    return re.sub('[^a-zA-Z]', ' ', text).lower()\n",
    "df['cleaned_text'] = df['review'].apply(lambda x: clean_text(x))\n",
    "df['label'] = df['rating'].map({1.0:0, 2.0:0, 3.0:0, 4.0:1, 5.0:1})"
   ]
  },
  {
   "cell_type": "markdown",
   "id": "8267bef7",
   "metadata": {},
   "source": [
    "In this part we adding additional features - **length of, and percentage of punctuations in the text**"
   ]
  },
  {
   "cell_type": "code",
   "execution_count": 7,
   "id": "0028ee3e",
   "metadata": {},
   "outputs": [
    {
     "data": {
      "text/html": [
       "<div>\n",
       "<style scoped>\n",
       "    .dataframe tbody tr th:only-of-type {\n",
       "        vertical-align: middle;\n",
       "    }\n",
       "\n",
       "    .dataframe tbody tr th {\n",
       "        vertical-align: top;\n",
       "    }\n",
       "\n",
       "    .dataframe thead th {\n",
       "        text-align: right;\n",
       "    }\n",
       "</style>\n",
       "<table border=\"1\" class=\"dataframe\">\n",
       "  <thead>\n",
       "    <tr style=\"text-align: right;\">\n",
       "      <th></th>\n",
       "      <th>hotel_name</th>\n",
       "      <th>name</th>\n",
       "      <th>rating</th>\n",
       "      <th>review</th>\n",
       "      <th>cleaned_text</th>\n",
       "      <th>label</th>\n",
       "      <th>review_len</th>\n",
       "      <th>punct</th>\n",
       "    </tr>\n",
       "  </thead>\n",
       "  <tbody>\n",
       "    <tr>\n",
       "      <th>0</th>\n",
       "      <td>Hotel Gran Mahakam</td>\n",
       "      <td>Robert Gow</td>\n",
       "      <td>4.0</td>\n",
       "      <td>Old boutique hotel but very well maintained. R...</td>\n",
       "      <td>old boutique hotel but very well maintained  r...</td>\n",
       "      <td>1</td>\n",
       "      <td>490</td>\n",
       "      <td>2.4</td>\n",
       "    </tr>\n",
       "    <tr>\n",
       "      <th>1</th>\n",
       "      <td>Hotel Gran Mahakam</td>\n",
       "      <td>Oggi Gunadi</td>\n",
       "      <td>5.0</td>\n",
       "      <td>Outstanding service from the first sight. Firs...</td>\n",
       "      <td>outstanding service from the first sight  firs...</td>\n",
       "      <td>1</td>\n",
       "      <td>309</td>\n",
       "      <td>1.9</td>\n",
       "    </tr>\n",
       "    <tr>\n",
       "      <th>2</th>\n",
       "      <td>Hotel Gran Mahakam</td>\n",
       "      <td>Fifi Muliadi</td>\n",
       "      <td>5.0</td>\n",
       "      <td>When I was working, I frequently visited the h...</td>\n",
       "      <td>when i was working  i frequently visited the h...</td>\n",
       "      <td>1</td>\n",
       "      <td>404</td>\n",
       "      <td>2.5</td>\n",
       "    </tr>\n",
       "    <tr>\n",
       "      <th>3</th>\n",
       "      <td>Hotel Gran Mahakam</td>\n",
       "      <td>Renatha P</td>\n",
       "      <td>5.0</td>\n",
       "      <td>Having all you can eat luncheon in private roo...</td>\n",
       "      <td>having all you can eat luncheon in private roo...</td>\n",
       "      <td>1</td>\n",
       "      <td>171</td>\n",
       "      <td>5.8</td>\n",
       "    </tr>\n",
       "    <tr>\n",
       "      <th>4</th>\n",
       "      <td>Hotel Gran Mahakam</td>\n",
       "      <td>Swathi V</td>\n",
       "      <td>5.0</td>\n",
       "      <td>My stay was a combination of quarantine and no...</td>\n",
       "      <td>my stay was a combination of quarantine and no...</td>\n",
       "      <td>1</td>\n",
       "      <td>389</td>\n",
       "      <td>2.6</td>\n",
       "    </tr>\n",
       "  </tbody>\n",
       "</table>\n",
       "</div>"
      ],
      "text/plain": [
       "           hotel_name          name  rating  \\\n",
       "0  Hotel Gran Mahakam    Robert Gow     4.0   \n",
       "1  Hotel Gran Mahakam   Oggi Gunadi     5.0   \n",
       "2  Hotel Gran Mahakam  Fifi Muliadi     5.0   \n",
       "3  Hotel Gran Mahakam     Renatha P     5.0   \n",
       "4  Hotel Gran Mahakam      Swathi V     5.0   \n",
       "\n",
       "                                              review  \\\n",
       "0  Old boutique hotel but very well maintained. R...   \n",
       "1  Outstanding service from the first sight. Firs...   \n",
       "2  When I was working, I frequently visited the h...   \n",
       "3  Having all you can eat luncheon in private roo...   \n",
       "4  My stay was a combination of quarantine and no...   \n",
       "\n",
       "                                        cleaned_text  label  review_len  punct  \n",
       "0  old boutique hotel but very well maintained  r...      1         490    2.4  \n",
       "1  outstanding service from the first sight  firs...      1         309    1.9  \n",
       "2  when i was working  i frequently visited the h...      1         404    2.5  \n",
       "3  having all you can eat luncheon in private roo...      1         171    5.8  \n",
       "4  my stay was a combination of quarantine and no...      1         389    2.6  "
      ]
     },
     "execution_count": 7,
     "metadata": {},
     "output_type": "execute_result"
    }
   ],
   "source": [
    "def count_punct(text):\n",
    "    count = sum([1 for char in text if char in string.punctuation])\n",
    "    return round(count/(len(text) - text.count(\" \")), 3)*100\n",
    "df['review_len'] = df['review'].apply(lambda x: len(x) - x.count(\" \"))\n",
    "df['punct'] = df['review'].apply(lambda x: count_punct(x))\n",
    "df.head()"
   ]
  },
  {
   "cell_type": "markdown",
   "id": "95b5f3dd",
   "metadata": {},
   "source": [
    "As the result we know the review len and the sum of punctuation"
   ]
  },
  {
   "cell_type": "markdown",
   "id": "452cb5e9",
   "metadata": {},
   "source": [
    "### Tokenization\n",
    "In this part we do **tokenization**"
   ]
  },
  {
   "cell_type": "code",
   "execution_count": 8,
   "id": "42a369ca",
   "metadata": {},
   "outputs": [
    {
     "data": {
      "text/html": [
       "<div>\n",
       "<style scoped>\n",
       "    .dataframe tbody tr th:only-of-type {\n",
       "        vertical-align: middle;\n",
       "    }\n",
       "\n",
       "    .dataframe tbody tr th {\n",
       "        vertical-align: top;\n",
       "    }\n",
       "\n",
       "    .dataframe thead th {\n",
       "        text-align: right;\n",
       "    }\n",
       "</style>\n",
       "<table border=\"1\" class=\"dataframe\">\n",
       "  <thead>\n",
       "    <tr style=\"text-align: right;\">\n",
       "      <th></th>\n",
       "      <th>hotel_name</th>\n",
       "      <th>name</th>\n",
       "      <th>rating</th>\n",
       "      <th>review</th>\n",
       "      <th>cleaned_text</th>\n",
       "      <th>label</th>\n",
       "      <th>review_len</th>\n",
       "      <th>punct</th>\n",
       "      <th>tokens</th>\n",
       "    </tr>\n",
       "  </thead>\n",
       "  <tbody>\n",
       "    <tr>\n",
       "      <th>0</th>\n",
       "      <td>Hotel Gran Mahakam</td>\n",
       "      <td>Robert Gow</td>\n",
       "      <td>4.0</td>\n",
       "      <td>Old boutique hotel but very well maintained. R...</td>\n",
       "      <td>old boutique hotel but very well maintained  r...</td>\n",
       "      <td>1</td>\n",
       "      <td>490</td>\n",
       "      <td>2.4</td>\n",
       "      <td>[old, boutique, hotel, but, very, well, mainta...</td>\n",
       "    </tr>\n",
       "    <tr>\n",
       "      <th>1</th>\n",
       "      <td>Hotel Gran Mahakam</td>\n",
       "      <td>Oggi Gunadi</td>\n",
       "      <td>5.0</td>\n",
       "      <td>Outstanding service from the first sight. Firs...</td>\n",
       "      <td>outstanding service from the first sight  firs...</td>\n",
       "      <td>1</td>\n",
       "      <td>309</td>\n",
       "      <td>1.9</td>\n",
       "      <td>[outstanding, service, from, the, first, sight...</td>\n",
       "    </tr>\n",
       "    <tr>\n",
       "      <th>2</th>\n",
       "      <td>Hotel Gran Mahakam</td>\n",
       "      <td>Fifi Muliadi</td>\n",
       "      <td>5.0</td>\n",
       "      <td>When I was working, I frequently visited the h...</td>\n",
       "      <td>when i was working  i frequently visited the h...</td>\n",
       "      <td>1</td>\n",
       "      <td>404</td>\n",
       "      <td>2.5</td>\n",
       "      <td>[when, i, was, working, i, frequently, visited...</td>\n",
       "    </tr>\n",
       "    <tr>\n",
       "      <th>3</th>\n",
       "      <td>Hotel Gran Mahakam</td>\n",
       "      <td>Renatha P</td>\n",
       "      <td>5.0</td>\n",
       "      <td>Having all you can eat luncheon in private roo...</td>\n",
       "      <td>having all you can eat luncheon in private roo...</td>\n",
       "      <td>1</td>\n",
       "      <td>171</td>\n",
       "      <td>5.8</td>\n",
       "      <td>[having, all, you, can, eat, luncheon, in, pri...</td>\n",
       "    </tr>\n",
       "    <tr>\n",
       "      <th>4</th>\n",
       "      <td>Hotel Gran Mahakam</td>\n",
       "      <td>Swathi V</td>\n",
       "      <td>5.0</td>\n",
       "      <td>My stay was a combination of quarantine and no...</td>\n",
       "      <td>my stay was a combination of quarantine and no...</td>\n",
       "      <td>1</td>\n",
       "      <td>389</td>\n",
       "      <td>2.6</td>\n",
       "      <td>[my, stay, was, a, combination, of, quarantine...</td>\n",
       "    </tr>\n",
       "  </tbody>\n",
       "</table>\n",
       "</div>"
      ],
      "text/plain": [
       "           hotel_name          name  rating  \\\n",
       "0  Hotel Gran Mahakam    Robert Gow     4.0   \n",
       "1  Hotel Gran Mahakam   Oggi Gunadi     5.0   \n",
       "2  Hotel Gran Mahakam  Fifi Muliadi     5.0   \n",
       "3  Hotel Gran Mahakam     Renatha P     5.0   \n",
       "4  Hotel Gran Mahakam      Swathi V     5.0   \n",
       "\n",
       "                                              review  \\\n",
       "0  Old boutique hotel but very well maintained. R...   \n",
       "1  Outstanding service from the first sight. Firs...   \n",
       "2  When I was working, I frequently visited the h...   \n",
       "3  Having all you can eat luncheon in private roo...   \n",
       "4  My stay was a combination of quarantine and no...   \n",
       "\n",
       "                                        cleaned_text  label  review_len  \\\n",
       "0  old boutique hotel but very well maintained  r...      1         490   \n",
       "1  outstanding service from the first sight  firs...      1         309   \n",
       "2  when i was working  i frequently visited the h...      1         404   \n",
       "3  having all you can eat luncheon in private roo...      1         171   \n",
       "4  my stay was a combination of quarantine and no...      1         389   \n",
       "\n",
       "   punct                                             tokens  \n",
       "0    2.4  [old, boutique, hotel, but, very, well, mainta...  \n",
       "1    1.9  [outstanding, service, from, the, first, sight...  \n",
       "2    2.5  [when, i, was, working, i, frequently, visited...  \n",
       "3    5.8  [having, all, you, can, eat, luncheon, in, pri...  \n",
       "4    2.6  [my, stay, was, a, combination, of, quarantine...  "
      ]
     },
     "execution_count": 8,
     "metadata": {},
     "output_type": "execute_result"
    }
   ],
   "source": [
    "def tokenize_text(text):\n",
    "    tokenized_text = text.split()\n",
    "    return tokenized_text\n",
    "df['tokens'] = df['cleaned_text'].apply(lambda x : tokenize_text(x))\n",
    "df.head()"
   ]
  },
  {
   "cell_type": "markdown",
   "id": "9f9460f3",
   "metadata": {},
   "source": [
    "As we can see there are list of word after we do tokenization"
   ]
  },
  {
   "cell_type": "markdown",
   "id": "9f06f42e",
   "metadata": {},
   "source": [
    "### Lemmatization and Removing Stopwords\n",
    "In this part we do **Lemmatization and Removing Stopwords**"
   ]
  },
  {
   "cell_type": "code",
   "execution_count": 9,
   "id": "47dc0270",
   "metadata": {},
   "outputs": [
    {
     "data": {
      "text/html": [
       "<div>\n",
       "<style scoped>\n",
       "    .dataframe tbody tr th:only-of-type {\n",
       "        vertical-align: middle;\n",
       "    }\n",
       "\n",
       "    .dataframe tbody tr th {\n",
       "        vertical-align: top;\n",
       "    }\n",
       "\n",
       "    .dataframe thead th {\n",
       "        text-align: right;\n",
       "    }\n",
       "</style>\n",
       "<table border=\"1\" class=\"dataframe\">\n",
       "  <thead>\n",
       "    <tr style=\"text-align: right;\">\n",
       "      <th></th>\n",
       "      <th>hotel_name</th>\n",
       "      <th>name</th>\n",
       "      <th>rating</th>\n",
       "      <th>review</th>\n",
       "      <th>cleaned_text</th>\n",
       "      <th>label</th>\n",
       "      <th>review_len</th>\n",
       "      <th>punct</th>\n",
       "      <th>tokens</th>\n",
       "      <th>lemmatized_review</th>\n",
       "    </tr>\n",
       "  </thead>\n",
       "  <tbody>\n",
       "    <tr>\n",
       "      <th>0</th>\n",
       "      <td>Hotel Gran Mahakam</td>\n",
       "      <td>Robert Gow</td>\n",
       "      <td>4.0</td>\n",
       "      <td>Old boutique hotel but very well maintained. R...</td>\n",
       "      <td>old boutique hotel but very well maintained  r...</td>\n",
       "      <td>1</td>\n",
       "      <td>490</td>\n",
       "      <td>2.4</td>\n",
       "      <td>[old, boutique, hotel, but, very, well, mainta...</td>\n",
       "      <td>old boutique hotel well maintained reception c...</td>\n",
       "    </tr>\n",
       "    <tr>\n",
       "      <th>1</th>\n",
       "      <td>Hotel Gran Mahakam</td>\n",
       "      <td>Oggi Gunadi</td>\n",
       "      <td>5.0</td>\n",
       "      <td>Outstanding service from the first sight. Firs...</td>\n",
       "      <td>outstanding service from the first sight  firs...</td>\n",
       "      <td>1</td>\n",
       "      <td>309</td>\n",
       "      <td>1.9</td>\n",
       "      <td>[outstanding, service, from, the, first, sight...</td>\n",
       "      <td>outstanding service first sight first impressi...</td>\n",
       "    </tr>\n",
       "    <tr>\n",
       "      <th>2</th>\n",
       "      <td>Hotel Gran Mahakam</td>\n",
       "      <td>Fifi Muliadi</td>\n",
       "      <td>5.0</td>\n",
       "      <td>When I was working, I frequently visited the h...</td>\n",
       "      <td>when i was working  i frequently visited the h...</td>\n",
       "      <td>1</td>\n",
       "      <td>404</td>\n",
       "      <td>2.5</td>\n",
       "      <td>[when, i, was, working, i, frequently, visited...</td>\n",
       "      <td>working frequently visited hotel meeting lunch...</td>\n",
       "    </tr>\n",
       "    <tr>\n",
       "      <th>3</th>\n",
       "      <td>Hotel Gran Mahakam</td>\n",
       "      <td>Renatha P</td>\n",
       "      <td>5.0</td>\n",
       "      <td>Having all you can eat luncheon in private roo...</td>\n",
       "      <td>having all you can eat luncheon in private roo...</td>\n",
       "      <td>1</td>\n",
       "      <td>171</td>\n",
       "      <td>5.8</td>\n",
       "      <td>[having, all, you, can, eat, luncheon, in, pri...</td>\n",
       "      <td>eat luncheon private room pax round table fine...</td>\n",
       "    </tr>\n",
       "    <tr>\n",
       "      <th>4</th>\n",
       "      <td>Hotel Gran Mahakam</td>\n",
       "      <td>Swathi V</td>\n",
       "      <td>5.0</td>\n",
       "      <td>My stay was a combination of quarantine and no...</td>\n",
       "      <td>my stay was a combination of quarantine and no...</td>\n",
       "      <td>1</td>\n",
       "      <td>389</td>\n",
       "      <td>2.6</td>\n",
       "      <td>[my, stay, was, a, combination, of, quarantine...</td>\n",
       "      <td>stay combination quarantine normal stay easily...</td>\n",
       "    </tr>\n",
       "  </tbody>\n",
       "</table>\n",
       "</div>"
      ],
      "text/plain": [
       "           hotel_name          name  rating  \\\n",
       "0  Hotel Gran Mahakam    Robert Gow     4.0   \n",
       "1  Hotel Gran Mahakam   Oggi Gunadi     5.0   \n",
       "2  Hotel Gran Mahakam  Fifi Muliadi     5.0   \n",
       "3  Hotel Gran Mahakam     Renatha P     5.0   \n",
       "4  Hotel Gran Mahakam      Swathi V     5.0   \n",
       "\n",
       "                                              review  \\\n",
       "0  Old boutique hotel but very well maintained. R...   \n",
       "1  Outstanding service from the first sight. Firs...   \n",
       "2  When I was working, I frequently visited the h...   \n",
       "3  Having all you can eat luncheon in private roo...   \n",
       "4  My stay was a combination of quarantine and no...   \n",
       "\n",
       "                                        cleaned_text  label  review_len  \\\n",
       "0  old boutique hotel but very well maintained  r...      1         490   \n",
       "1  outstanding service from the first sight  firs...      1         309   \n",
       "2  when i was working  i frequently visited the h...      1         404   \n",
       "3  having all you can eat luncheon in private roo...      1         171   \n",
       "4  my stay was a combination of quarantine and no...      1         389   \n",
       "\n",
       "   punct                                             tokens  \\\n",
       "0    2.4  [old, boutique, hotel, but, very, well, mainta...   \n",
       "1    1.9  [outstanding, service, from, the, first, sight...   \n",
       "2    2.5  [when, i, was, working, i, frequently, visited...   \n",
       "3    5.8  [having, all, you, can, eat, luncheon, in, pri...   \n",
       "4    2.6  [my, stay, was, a, combination, of, quarantine...   \n",
       "\n",
       "                                   lemmatized_review  \n",
       "0  old boutique hotel well maintained reception c...  \n",
       "1  outstanding service first sight first impressi...  \n",
       "2  working frequently visited hotel meeting lunch...  \n",
       "3  eat luncheon private room pax round table fine...  \n",
       "4  stay combination quarantine normal stay easily...  "
      ]
     },
     "execution_count": 9,
     "metadata": {},
     "output_type": "execute_result"
    }
   ],
   "source": [
    "def lemmatize_text(token_list):\n",
    "    return \" \".join([lemmatizer.lemmatize(token) for token in token_list if not token in set(all_stopwords)])\n",
    "\n",
    "lemmatizer = nltk.stem.WordNetLemmatizer()\n",
    "df['lemmatized_review'] = df['tokens'].apply(lambda x: lemmatize_text(x))\n",
    "df.head()"
   ]
  },
  {
   "cell_type": "markdown",
   "id": "740b0450",
   "metadata": {},
   "source": [
    "As the result we got lemmatized review"
   ]
  },
  {
   "cell_type": "markdown",
   "id": "079d1cda",
   "metadata": {},
   "source": [
    "<HR>"
   ]
  },
  {
   "cell_type": "markdown",
   "id": "49a6b7e8",
   "metadata": {},
   "source": [
    "# EDA"
   ]
  },
  {
   "cell_type": "markdown",
   "id": "3f286529",
   "metadata": {},
   "source": [
    "### Number of Hotel by Rating\n",
    "We create a new dataset contains rating and the total of amount."
   ]
  },
  {
   "cell_type": "code",
   "execution_count": 45,
   "id": "618d756a",
   "metadata": {},
   "outputs": [
    {
     "data": {
      "text/html": [
       "<div>\n",
       "<style scoped>\n",
       "    .dataframe tbody tr th:only-of-type {\n",
       "        vertical-align: middle;\n",
       "    }\n",
       "\n",
       "    .dataframe tbody tr th {\n",
       "        vertical-align: top;\n",
       "    }\n",
       "\n",
       "    .dataframe thead th {\n",
       "        text-align: right;\n",
       "    }\n",
       "</style>\n",
       "<table border=\"1\" class=\"dataframe\">\n",
       "  <thead>\n",
       "    <tr style=\"text-align: right;\">\n",
       "      <th></th>\n",
       "      <th>rating</th>\n",
       "      <th>total</th>\n",
       "      <th>percent</th>\n",
       "    </tr>\n",
       "  </thead>\n",
       "  <tbody>\n",
       "    <tr>\n",
       "      <th>0</th>\n",
       "      <td>5.0</td>\n",
       "      <td>99</td>\n",
       "      <td>47.14</td>\n",
       "    </tr>\n",
       "    <tr>\n",
       "      <th>1</th>\n",
       "      <td>4.0</td>\n",
       "      <td>48</td>\n",
       "      <td>22.86</td>\n",
       "    </tr>\n",
       "    <tr>\n",
       "      <th>2</th>\n",
       "      <td>3.0</td>\n",
       "      <td>24</td>\n",
       "      <td>11.43</td>\n",
       "    </tr>\n",
       "    <tr>\n",
       "      <th>3</th>\n",
       "      <td>1.0</td>\n",
       "      <td>23</td>\n",
       "      <td>10.95</td>\n",
       "    </tr>\n",
       "    <tr>\n",
       "      <th>4</th>\n",
       "      <td>2.0</td>\n",
       "      <td>16</td>\n",
       "      <td>7.62</td>\n",
       "    </tr>\n",
       "  </tbody>\n",
       "</table>\n",
       "</div>"
      ],
      "text/plain": [
       "   rating  total  percent\n",
       "0     5.0     99    47.14\n",
       "1     4.0     48    22.86\n",
       "2     3.0     24    11.43\n",
       "3     1.0     23    10.95\n",
       "4     2.0     16     7.62"
      ]
     },
     "execution_count": 45,
     "metadata": {},
     "output_type": "execute_result"
    }
   ],
   "source": [
    "df_rating = pd.DataFrame(df['rating'].value_counts())\n",
    "df_rating = df_rating.reset_index()\n",
    "df_rating.rename(columns=({'index':'rating','rating':'total'}), inplace = True)\n",
    "df_rating['percent'] = round(((df_rating['total']/df_rating['total'].sum())*100),2)\n",
    "df_rating"
   ]
  },
  {
   "cell_type": "markdown",
   "id": "59310eb4",
   "metadata": {},
   "source": [
    "We make a bar chart to show the number of hotel by their rating"
   ]
  },
  {
   "cell_type": "code",
   "execution_count": 50,
   "id": "77dcb964",
   "metadata": {},
   "outputs": [
    {
     "data": {
      "text/html": [
       "<iframe\n",
       "    scrolling=\"no\"\n",
       "    width=\"100%\"\n",
       "    height=\"545px\"\n",
       "    src=\"iframe_figures/figure_50.html\"\n",
       "    frameborder=\"0\"\n",
       "    allowfullscreen\n",
       "></iframe>\n"
      ]
     },
     "metadata": {},
     "output_type": "display_data"
    }
   ],
   "source": [
    "fig = px.bar(df_rating, x='rating', y = 'total', text='percent', color='rating' ,title='Number of Hotel by Rating')\n",
    "pyoff.iplot(fig)"
   ]
  },
  {
   "cell_type": "markdown",
   "id": "43ff7ae5",
   "metadata": {},
   "source": [
    "From the result above we can see that hotel with **5 ratings** have the highest value with **47.14%** and hotel **4 ratings** are **22.86%**. And hotel with **1 rating** have higher value than **2 rating** with **10.95%**. from this chart we can give a recommendation to increase the service of **1 rating** hotel, so they can get more good review."
   ]
  },
  {
   "cell_type": "markdown",
   "id": "816a15dd",
   "metadata": {},
   "source": [
    "### Number of Hotel by label\n",
    "We create a new dataset contains label and the total of amount."
   ]
  },
  {
   "cell_type": "code",
   "execution_count": 51,
   "id": "4f44c718",
   "metadata": {},
   "outputs": [
    {
     "data": {
      "text/html": [
       "<div>\n",
       "<style scoped>\n",
       "    .dataframe tbody tr th:only-of-type {\n",
       "        vertical-align: middle;\n",
       "    }\n",
       "\n",
       "    .dataframe tbody tr th {\n",
       "        vertical-align: top;\n",
       "    }\n",
       "\n",
       "    .dataframe thead th {\n",
       "        text-align: right;\n",
       "    }\n",
       "</style>\n",
       "<table border=\"1\" class=\"dataframe\">\n",
       "  <thead>\n",
       "    <tr style=\"text-align: right;\">\n",
       "      <th></th>\n",
       "      <th>label</th>\n",
       "      <th>total</th>\n",
       "      <th>percent</th>\n",
       "    </tr>\n",
       "  </thead>\n",
       "  <tbody>\n",
       "    <tr>\n",
       "      <th>0</th>\n",
       "      <td>1</td>\n",
       "      <td>147</td>\n",
       "      <td>70.0</td>\n",
       "    </tr>\n",
       "    <tr>\n",
       "      <th>1</th>\n",
       "      <td>0</td>\n",
       "      <td>63</td>\n",
       "      <td>30.0</td>\n",
       "    </tr>\n",
       "  </tbody>\n",
       "</table>\n",
       "</div>"
      ],
      "text/plain": [
       "   label  total  percent\n",
       "0      1    147     70.0\n",
       "1      0     63     30.0"
      ]
     },
     "execution_count": 51,
     "metadata": {},
     "output_type": "execute_result"
    }
   ],
   "source": [
    "df_label = pd.DataFrame(df['label'].value_counts())\n",
    "df_label = df_label.reset_index()\n",
    "df_label.rename(columns=({'index':'label','label':'total'}), inplace = True)\n",
    "df_label['percent'] = round(((df_label['total']/df_label['total'].sum())*100),2)\n",
    "df_label"
   ]
  },
  {
   "cell_type": "markdown",
   "id": "e4442fb4",
   "metadata": {},
   "source": [
    "We make a bar chart to show the number of hotel by their rating"
   ]
  },
  {
   "cell_type": "code",
   "execution_count": 52,
   "id": "f1c62e73",
   "metadata": {
    "scrolled": true
   },
   "outputs": [
    {
     "data": {
      "text/html": [
       "<iframe\n",
       "    scrolling=\"no\"\n",
       "    width=\"100%\"\n",
       "    height=\"545px\"\n",
       "    src=\"iframe_figures/figure_52.html\"\n",
       "    frameborder=\"0\"\n",
       "    allowfullscreen\n",
       "></iframe>\n"
      ]
     },
     "metadata": {},
     "output_type": "display_data"
    }
   ],
   "source": [
    "fig = px.bar(df_label, x='label', y = 'total', text='percent', color='label' ,title='Number of Hotel by label')\n",
    "pyoff.iplot(fig)"
   ]
  },
  {
   "cell_type": "markdown",
   "id": "2c991771",
   "metadata": {},
   "source": [
    "From the barchart we can see hotel with **label 1** have value **70%**. And with **label 0** has **30%**. From this chart we can give recommendation to increase the service of hotel with **Label 0**, because **30** is a high number."
   ]
  },
  {
   "cell_type": "markdown",
   "id": "0ea28c7a",
   "metadata": {},
   "source": [
    "<HR>"
   ]
  },
  {
   "cell_type": "markdown",
   "id": "1bd2aa15",
   "metadata": {},
   "source": [
    "# Feature Extraction from Text"
   ]
  },
  {
   "cell_type": "markdown",
   "id": "6b5fbbf0",
   "metadata": {},
   "source": [
    "- Vectorizer : TF-IDF\n",
    "\n",
    "TF-IDF stands for term frequency-inverse document frequency and it is a measure, used in the fields of information retrieval (IR) and machine learning, that can quantify the importance or relevance of string representations (words, phrases, lemmas, etc)  in a document amongst a collection of documents (also known as a corpus)."
   ]
  },
  {
   "cell_type": "markdown",
   "id": "eead94b0",
   "metadata": {},
   "source": [
    "In this part we split data into x for variable and y for the label"
   ]
  },
  {
   "cell_type": "code",
   "execution_count": 12,
   "id": "266f5cbc",
   "metadata": {},
   "outputs": [
    {
     "name": "stdout",
     "output_type": "stream",
     "text": [
      "(210, 3)\n",
      "(210,)\n"
     ]
    }
   ],
   "source": [
    "X = df[['lemmatized_review', 'review_len', 'punct']]\n",
    "y = df['label']\n",
    "print(X.shape)\n",
    "print(y.shape)"
   ]
  },
  {
   "cell_type": "markdown",
   "id": "0a8c800e",
   "metadata": {},
   "source": [
    "After that we do train test split, to differ data into training set and test set"
   ]
  },
  {
   "cell_type": "code",
   "execution_count": 13,
   "id": "d91f0ec6",
   "metadata": {},
   "outputs": [
    {
     "name": "stdout",
     "output_type": "stream",
     "text": [
      "(147, 3)\n",
      "(63, 3)\n",
      "(147,)\n",
      "(63,)\n"
     ]
    }
   ],
   "source": [
    "X_train, X_test, y_train, y_test = train_test_split(X, y, test_size = 0.3, random_state = 0)\n",
    "print(X_train.shape)\n",
    "print(X_test.shape)\n",
    "print(y_train.shape)\n",
    "print(y_test.shape)"
   ]
  },
  {
   "cell_type": "code",
   "execution_count": 14,
   "id": "a14cf91b",
   "metadata": {},
   "outputs": [
    {
     "data": {
      "text/html": [
       "<div>\n",
       "<style scoped>\n",
       "    .dataframe tbody tr th:only-of-type {\n",
       "        vertical-align: middle;\n",
       "    }\n",
       "\n",
       "    .dataframe tbody tr th {\n",
       "        vertical-align: top;\n",
       "    }\n",
       "\n",
       "    .dataframe thead th {\n",
       "        text-align: right;\n",
       "    }\n",
       "</style>\n",
       "<table border=\"1\" class=\"dataframe\">\n",
       "  <thead>\n",
       "    <tr style=\"text-align: right;\">\n",
       "      <th></th>\n",
       "      <th>review_len</th>\n",
       "      <th>punct</th>\n",
       "      <th>0</th>\n",
       "      <th>1</th>\n",
       "      <th>2</th>\n",
       "      <th>3</th>\n",
       "      <th>4</th>\n",
       "      <th>5</th>\n",
       "      <th>6</th>\n",
       "      <th>7</th>\n",
       "      <th>...</th>\n",
       "      <th>662</th>\n",
       "      <th>663</th>\n",
       "      <th>664</th>\n",
       "      <th>665</th>\n",
       "      <th>666</th>\n",
       "      <th>667</th>\n",
       "      <th>668</th>\n",
       "      <th>669</th>\n",
       "      <th>670</th>\n",
       "      <th>671</th>\n",
       "    </tr>\n",
       "  </thead>\n",
       "  <tbody>\n",
       "    <tr>\n",
       "      <th>0</th>\n",
       "      <td>220</td>\n",
       "      <td>4.1</td>\n",
       "      <td>0.0</td>\n",
       "      <td>0.0</td>\n",
       "      <td>0.0</td>\n",
       "      <td>0.0</td>\n",
       "      <td>0.0</td>\n",
       "      <td>0.0</td>\n",
       "      <td>0.0</td>\n",
       "      <td>0.0</td>\n",
       "      <td>...</td>\n",
       "      <td>0.0</td>\n",
       "      <td>0.000000</td>\n",
       "      <td>0.0</td>\n",
       "      <td>0.0</td>\n",
       "      <td>0.0</td>\n",
       "      <td>0.0</td>\n",
       "      <td>0.000000</td>\n",
       "      <td>0.0</td>\n",
       "      <td>0.0</td>\n",
       "      <td>0.0</td>\n",
       "    </tr>\n",
       "    <tr>\n",
       "      <th>1</th>\n",
       "      <td>162</td>\n",
       "      <td>3.7</td>\n",
       "      <td>0.0</td>\n",
       "      <td>0.0</td>\n",
       "      <td>0.0</td>\n",
       "      <td>0.0</td>\n",
       "      <td>0.0</td>\n",
       "      <td>0.0</td>\n",
       "      <td>0.0</td>\n",
       "      <td>0.0</td>\n",
       "      <td>...</td>\n",
       "      <td>0.0</td>\n",
       "      <td>0.000000</td>\n",
       "      <td>0.0</td>\n",
       "      <td>0.0</td>\n",
       "      <td>0.0</td>\n",
       "      <td>0.0</td>\n",
       "      <td>0.000000</td>\n",
       "      <td>0.0</td>\n",
       "      <td>0.0</td>\n",
       "      <td>0.0</td>\n",
       "    </tr>\n",
       "    <tr>\n",
       "      <th>2</th>\n",
       "      <td>219</td>\n",
       "      <td>3.7</td>\n",
       "      <td>0.0</td>\n",
       "      <td>0.0</td>\n",
       "      <td>0.0</td>\n",
       "      <td>0.0</td>\n",
       "      <td>0.0</td>\n",
       "      <td>0.0</td>\n",
       "      <td>0.0</td>\n",
       "      <td>0.0</td>\n",
       "      <td>...</td>\n",
       "      <td>0.0</td>\n",
       "      <td>0.000000</td>\n",
       "      <td>0.0</td>\n",
       "      <td>0.0</td>\n",
       "      <td>0.0</td>\n",
       "      <td>0.0</td>\n",
       "      <td>0.000000</td>\n",
       "      <td>0.0</td>\n",
       "      <td>0.0</td>\n",
       "      <td>0.0</td>\n",
       "    </tr>\n",
       "    <tr>\n",
       "      <th>3</th>\n",
       "      <td>305</td>\n",
       "      <td>4.9</td>\n",
       "      <td>0.0</td>\n",
       "      <td>0.0</td>\n",
       "      <td>0.0</td>\n",
       "      <td>0.0</td>\n",
       "      <td>0.0</td>\n",
       "      <td>0.0</td>\n",
       "      <td>0.0</td>\n",
       "      <td>0.0</td>\n",
       "      <td>...</td>\n",
       "      <td>0.0</td>\n",
       "      <td>0.000000</td>\n",
       "      <td>0.0</td>\n",
       "      <td>0.0</td>\n",
       "      <td>0.0</td>\n",
       "      <td>0.0</td>\n",
       "      <td>0.227624</td>\n",
       "      <td>0.0</td>\n",
       "      <td>0.0</td>\n",
       "      <td>0.0</td>\n",
       "    </tr>\n",
       "    <tr>\n",
       "      <th>4</th>\n",
       "      <td>1272</td>\n",
       "      <td>2.8</td>\n",
       "      <td>0.0</td>\n",
       "      <td>0.0</td>\n",
       "      <td>0.0</td>\n",
       "      <td>0.0</td>\n",
       "      <td>0.0</td>\n",
       "      <td>0.0</td>\n",
       "      <td>0.0</td>\n",
       "      <td>0.0</td>\n",
       "      <td>...</td>\n",
       "      <td>0.0</td>\n",
       "      <td>0.083109</td>\n",
       "      <td>0.0</td>\n",
       "      <td>0.0</td>\n",
       "      <td>0.0</td>\n",
       "      <td>0.0</td>\n",
       "      <td>0.000000</td>\n",
       "      <td>0.0</td>\n",
       "      <td>0.0</td>\n",
       "      <td>0.0</td>\n",
       "    </tr>\n",
       "  </tbody>\n",
       "</table>\n",
       "<p>5 rows × 674 columns</p>\n",
       "</div>"
      ],
      "text/plain": [
       "   review_len  punct    0    1    2    3    4    5    6    7  ...  662  \\\n",
       "0         220    4.1  0.0  0.0  0.0  0.0  0.0  0.0  0.0  0.0  ...  0.0   \n",
       "1         162    3.7  0.0  0.0  0.0  0.0  0.0  0.0  0.0  0.0  ...  0.0   \n",
       "2         219    3.7  0.0  0.0  0.0  0.0  0.0  0.0  0.0  0.0  ...  0.0   \n",
       "3         305    4.9  0.0  0.0  0.0  0.0  0.0  0.0  0.0  0.0  ...  0.0   \n",
       "4        1272    2.8  0.0  0.0  0.0  0.0  0.0  0.0  0.0  0.0  ...  0.0   \n",
       "\n",
       "        663  664  665  666  667       668  669  670  671  \n",
       "0  0.000000  0.0  0.0  0.0  0.0  0.000000  0.0  0.0  0.0  \n",
       "1  0.000000  0.0  0.0  0.0  0.0  0.000000  0.0  0.0  0.0  \n",
       "2  0.000000  0.0  0.0  0.0  0.0  0.000000  0.0  0.0  0.0  \n",
       "3  0.000000  0.0  0.0  0.0  0.0  0.227624  0.0  0.0  0.0  \n",
       "4  0.083109  0.0  0.0  0.0  0.0  0.000000  0.0  0.0  0.0  \n",
       "\n",
       "[5 rows x 674 columns]"
      ]
     },
     "execution_count": 14,
     "metadata": {},
     "output_type": "execute_result"
    }
   ],
   "source": [
    "tfidf = TfidfVectorizer(max_df = 0.5, min_df = 2) # ignore terms that occur in more than 50% documents and the ones that occur in less than 2\n",
    "tfidf_train = tfidf.fit_transform(X_train['lemmatized_review'])\n",
    "tfidf_test = tfidf.transform(X_test['lemmatized_review'])\n",
    "\n",
    "X_train_vect = pd.concat([X_train[['review_len', 'punct']].reset_index(drop=True), \n",
    "           pd.DataFrame(tfidf_train.toarray())], axis=1)\n",
    "X_test_vect = pd.concat([X_test[['review_len', 'punct']].reset_index(drop=True), \n",
    "           pd.DataFrame(tfidf_test.toarray())], axis=1)\n",
    "\n",
    "X_train_vect.head()  "
   ]
  },
  {
   "cell_type": "markdown",
   "id": "58583398",
   "metadata": {},
   "source": [
    "<HR>"
   ]
  },
  {
   "cell_type": "markdown",
   "id": "ea783a7b",
   "metadata": {},
   "source": [
    "# Modeling Data : Logistic Regression\n",
    "Logistic Regression is a classification technique used in machine learning. It uses a logistic function to model the dependent variable. The dependent variable is dichotomous in nature, in this case is customer who churn or not. We are using deafult threshold in this model to classify the churn customer and not churn customer."
   ]
  },
  {
   "cell_type": "markdown",
   "id": "8d4c1cad",
   "metadata": {},
   "source": [
    "In this part we train the model using training data"
   ]
  },
  {
   "cell_type": "code",
   "execution_count": 15,
   "id": "e2bbd742",
   "metadata": {},
   "outputs": [
    {
     "data": {
      "text/html": [
       "<style>#sk-container-id-1 {color: black;background-color: white;}#sk-container-id-1 pre{padding: 0;}#sk-container-id-1 div.sk-toggleable {background-color: white;}#sk-container-id-1 label.sk-toggleable__label {cursor: pointer;display: block;width: 100%;margin-bottom: 0;padding: 0.3em;box-sizing: border-box;text-align: center;}#sk-container-id-1 label.sk-toggleable__label-arrow:before {content: \"▸\";float: left;margin-right: 0.25em;color: #696969;}#sk-container-id-1 label.sk-toggleable__label-arrow:hover:before {color: black;}#sk-container-id-1 div.sk-estimator:hover label.sk-toggleable__label-arrow:before {color: black;}#sk-container-id-1 div.sk-toggleable__content {max-height: 0;max-width: 0;overflow: hidden;text-align: left;background-color: #f0f8ff;}#sk-container-id-1 div.sk-toggleable__content pre {margin: 0.2em;color: black;border-radius: 0.25em;background-color: #f0f8ff;}#sk-container-id-1 input.sk-toggleable__control:checked~div.sk-toggleable__content {max-height: 200px;max-width: 100%;overflow: auto;}#sk-container-id-1 input.sk-toggleable__control:checked~label.sk-toggleable__label-arrow:before {content: \"▾\";}#sk-container-id-1 div.sk-estimator input.sk-toggleable__control:checked~label.sk-toggleable__label {background-color: #d4ebff;}#sk-container-id-1 div.sk-label input.sk-toggleable__control:checked~label.sk-toggleable__label {background-color: #d4ebff;}#sk-container-id-1 input.sk-hidden--visually {border: 0;clip: rect(1px 1px 1px 1px);clip: rect(1px, 1px, 1px, 1px);height: 1px;margin: -1px;overflow: hidden;padding: 0;position: absolute;width: 1px;}#sk-container-id-1 div.sk-estimator {font-family: monospace;background-color: #f0f8ff;border: 1px dotted black;border-radius: 0.25em;box-sizing: border-box;margin-bottom: 0.5em;}#sk-container-id-1 div.sk-estimator:hover {background-color: #d4ebff;}#sk-container-id-1 div.sk-parallel-item::after {content: \"\";width: 100%;border-bottom: 1px solid gray;flex-grow: 1;}#sk-container-id-1 div.sk-label:hover label.sk-toggleable__label {background-color: #d4ebff;}#sk-container-id-1 div.sk-serial::before {content: \"\";position: absolute;border-left: 1px solid gray;box-sizing: border-box;top: 0;bottom: 0;left: 50%;z-index: 0;}#sk-container-id-1 div.sk-serial {display: flex;flex-direction: column;align-items: center;background-color: white;padding-right: 0.2em;padding-left: 0.2em;position: relative;}#sk-container-id-1 div.sk-item {position: relative;z-index: 1;}#sk-container-id-1 div.sk-parallel {display: flex;align-items: stretch;justify-content: center;background-color: white;position: relative;}#sk-container-id-1 div.sk-item::before, #sk-container-id-1 div.sk-parallel-item::before {content: \"\";position: absolute;border-left: 1px solid gray;box-sizing: border-box;top: 0;bottom: 0;left: 50%;z-index: -1;}#sk-container-id-1 div.sk-parallel-item {display: flex;flex-direction: column;z-index: 1;position: relative;background-color: white;}#sk-container-id-1 div.sk-parallel-item:first-child::after {align-self: flex-end;width: 50%;}#sk-container-id-1 div.sk-parallel-item:last-child::after {align-self: flex-start;width: 50%;}#sk-container-id-1 div.sk-parallel-item:only-child::after {width: 0;}#sk-container-id-1 div.sk-dashed-wrapped {border: 1px dashed gray;margin: 0 0.4em 0.5em 0.4em;box-sizing: border-box;padding-bottom: 0.4em;background-color: white;}#sk-container-id-1 div.sk-label label {font-family: monospace;font-weight: bold;display: inline-block;line-height: 1.2em;}#sk-container-id-1 div.sk-label-container {text-align: center;}#sk-container-id-1 div.sk-container {/* jupyter's `normalize.less` sets `[hidden] { display: none; }` but bootstrap.min.css set `[hidden] { display: none !important; }` so we also need the `!important` here to be able to override the default hidden behavior on the sphinx rendered scikit-learn.org. See: https://github.com/scikit-learn/scikit-learn/issues/21755 */display: inline-block !important;position: relative;}#sk-container-id-1 div.sk-text-repr-fallback {display: none;}</style><div id=\"sk-container-id-1\" class=\"sk-top-container\"><div class=\"sk-text-repr-fallback\"><pre>LogisticRegression()</pre><b>In a Jupyter environment, please rerun this cell to show the HTML representation or trust the notebook. <br />On GitHub, the HTML representation is unable to render, please try loading this page with nbviewer.org.</b></div><div class=\"sk-container\" hidden><div class=\"sk-item\"><div class=\"sk-estimator sk-toggleable\"><input class=\"sk-toggleable__control sk-hidden--visually\" id=\"sk-estimator-id-1\" type=\"checkbox\" checked><label for=\"sk-estimator-id-1\" class=\"sk-toggleable__label sk-toggleable__label-arrow\">LogisticRegression</label><div class=\"sk-toggleable__content\"><pre>LogisticRegression()</pre></div></div></div></div></div>"
      ],
      "text/plain": [
       "LogisticRegression()"
      ]
     },
     "execution_count": 15,
     "metadata": {},
     "output_type": "execute_result"
    }
   ],
   "source": [
    "# fitting training\n",
    "classifier = LogisticRegression()\n",
    "classifier.fit(X_train_vect, y_train)"
   ]
  },
  {
   "cell_type": "markdown",
   "id": "72723aaf",
   "metadata": {},
   "source": [
    "After we train the model we test the model using test data"
   ]
  },
  {
   "cell_type": "code",
   "execution_count": 16,
   "id": "c64951a6",
   "metadata": {},
   "outputs": [],
   "source": [
    "# predict the result\n",
    "log_reg_pred = classifier.predict(X_test_vect)"
   ]
  },
  {
   "cell_type": "markdown",
   "id": "c47a7230",
   "metadata": {},
   "source": [
    "<HR>"
   ]
  },
  {
   "cell_type": "markdown",
   "id": "60aa9d2f",
   "metadata": {},
   "source": [
    "# Evaluation : Confusion Matrix\n",
    "- A confusion matrix is a technique for summarizing the performance of a classification algorithm.\n",
    "\n",
    "- Classification accuracy alone can be misleading if you have an unequal number of observations in each class or if you have more than two classes in your dataset.\n",
    "\n",
    "- Calculating a confusion matrix can give you a better idea of what your classification model is getting right and what types of errors it is making.\n"
   ]
  },
  {
   "cell_type": "code",
   "execution_count": 17,
   "id": "d38c786b",
   "metadata": {},
   "outputs": [
    {
     "name": "stdout",
     "output_type": "stream",
     "text": [
      "              precision    recall  f1-score   support\n",
      "\n",
      "           0       0.62      0.24      0.34        21\n",
      "           1       0.71      0.93      0.80        42\n",
      "\n",
      "    accuracy                           0.70        63\n",
      "   macro avg       0.67      0.58      0.57        63\n",
      "weighted avg       0.68      0.70      0.65        63\n",
      "\n"
     ]
    },
    {
     "data": {
      "image/png": "[encoded data removed]",
      "text/plain": [
       "<Figure size 640x480 with 2 Axes>"
      ]
     },
     "metadata": {},
     "output_type": "display_data"
    }
   ],
   "source": [
    "# Classification report\n",
    "print(classification_report(y_test, log_reg_pred))\n",
    "\n",
    "# Confusion Matrix\n",
    "class_label = [\"negative\", \"positive\"]\n",
    "df_cm = pd.DataFrame(confusion_matrix(y_test, log_reg_pred), index=class_label, columns=class_label)\n",
    "sns.heatmap(df_cm, annot=True, fmt='d')\n",
    "plt.title(\"Confusion Matrix\")\n",
    "plt.xlabel(\"Predicted Label\")\n",
    "plt.ylabel(\"True Label\")\n",
    "plt.show()"
   ]
  },
  {
   "cell_type": "markdown",
   "id": "3bf6059d",
   "metadata": {},
   "source": [
    "### Classification Report\n",
    "- From the table above we can see the precision for 0 variable is 0.62 and 1 variable is 0.71\n",
    "- From the table above we can see the recall for 0 variable is 0.24 and 1 variable is 0.93\n",
    "- From the table above we can  see the f1- score for 0 variable is 0.34 and 1 variable is 0.80\n",
    "- From the table above we can see the accuracy for this model 0.70"
   ]
  },
  {
   "cell_type": "markdown",
   "id": "fc8f356b",
   "metadata": {},
   "source": [
    "### Confusion Matrix\n",
    "There are 4 category in this matrix:\n",
    "- True Positive, the number of true positive is 39\n",
    "- True Negative, the number of true negative is 5\n",
    "- False Negative, the number of false negative is 3\n",
    "- False Positive, the number of false positive is 16"
   ]
  },
  {
   "cell_type": "markdown",
   "id": "d15855ac",
   "metadata": {},
   "source": [
    "<HR>"
   ]
  },
  {
   "cell_type": "markdown",
   "id": "1ec711f6",
   "metadata": {},
   "source": [
    "## Building a Model with Cross Validation\n",
    "Cross-Validation is a statistical method of evaluating and comparing learning algorithms by dividing data into two segments: one used to learn or train a model and the other used to validate the model."
   ]
  },
  {
   "cell_type": "code",
   "execution_count": 18,
   "id": "a02c73a9",
   "metadata": {},
   "outputs": [
    {
     "name": "stdout",
     "output_type": "stream",
     "text": [
      "Logistic Regression\n",
      " accuracy - 0.8028571428571428 \n",
      " precision - 0.7966483516483517 \n",
      " recall - 0.9800000000000001 \n",
      " f1 - 0.8772044187696363 \n",
      "\n"
     ]
    }
   ],
   "source": [
    "model = [LogisticRegression()]\n",
    "name = [\"Logistic Regression\"]\n",
    "for model, name in zip(model, name):\n",
    "    print(name)\n",
    "    for score in [\"accuracy\", \"precision\", \"recall\", \"f1\"]:\n",
    "        print(f\" {score} - {cross_val_score(model, X_train_vect, y_train, scoring=score, cv=10).mean()} \")\n",
    "    print()"
   ]
  },
  {
   "cell_type": "markdown",
   "id": "02f65432",
   "metadata": {},
   "source": [
    "## Hyperparameter Tuning in Logistic Regression\n",
    "Hyperparameter tuning consists of finding a set of optimal hyperparameter values for a learning algorithm while applying this optimized algorithm to any data set. That combination of hyperparameters maximizes the model's performance, minimizing a predefined loss function to produce better results with fewer errors."
   ]
  },
  {
   "cell_type": "markdown",
   "id": "9848a8dd",
   "metadata": {},
   "source": [
    "In this part we get the params we need"
   ]
  },
  {
   "cell_type": "code",
   "execution_count": 19,
   "id": "1c3e953e",
   "metadata": {},
   "outputs": [
    {
     "data": {
      "text/plain": [
       "{'C': 1.0,\n",
       " 'class_weight': None,\n",
       " 'dual': False,\n",
       " 'fit_intercept': True,\n",
       " 'intercept_scaling': 1,\n",
       " 'l1_ratio': None,\n",
       " 'max_iter': 100,\n",
       " 'multi_class': 'auto',\n",
       " 'n_jobs': None,\n",
       " 'penalty': 'l2',\n",
       " 'random_state': None,\n",
       " 'solver': 'lbfgs',\n",
       " 'tol': 0.0001,\n",
       " 'verbose': 0,\n",
       " 'warm_start': False}"
      ]
     },
     "execution_count": 19,
     "metadata": {},
     "output_type": "execute_result"
    }
   ],
   "source": [
    "model.get_params()"
   ]
  },
  {
   "cell_type": "markdown",
   "id": "6360c80f",
   "metadata": {},
   "source": [
    "And after that we list the value of each params"
   ]
  },
  {
   "cell_type": "code",
   "execution_count": 20,
   "id": "2e34167d",
   "metadata": {},
   "outputs": [],
   "source": [
    "parameters = {\"penalty\": ['l1', 'l2', 'elasticnet', 'none'],\n",
    "              \"solver\": ['newton-cg', 'lbfgs', 'liblinear', 'sag', 'saga'],\n",
    "              \"n_jobs\": [None, -1],\n",
    "              \"max_iter\": [10, 100, 1000]\n",
    "             }"
   ]
  },
  {
   "cell_type": "markdown",
   "id": "b96c10d6",
   "metadata": {},
   "source": [
    "After that we use gridsearchcv to get the best params"
   ]
  },
  {
   "cell_type": "code",
   "execution_count": 21,
   "id": "9115c89d",
   "metadata": {},
   "outputs": [],
   "source": [
    "grid = GridSearchCV(estimator = model, param_grid = parameters, cv=3)"
   ]
  },
  {
   "cell_type": "markdown",
   "id": "f04bf2be",
   "metadata": {},
   "source": [
    "After we train the grid variable we get the best params"
   ]
  },
  {
   "cell_type": "code",
   "execution_count": 22,
   "id": "4e91024b",
   "metadata": {},
   "outputs": [
    {
     "data": {
      "text/plain": [
       "{'max_iter': 100, 'n_jobs': None, 'penalty': 'none', 'solver': 'lbfgs'}"
      ]
     },
     "execution_count": 22,
     "metadata": {},
     "output_type": "execute_result"
    }
   ],
   "source": [
    "best_model = grid.fit(X_train_vect, y_train)\n",
    "\n",
    "# find best param\n",
    "best_model.best_params_"
   ]
  },
  {
   "cell_type": "markdown",
   "id": "f854f36b",
   "metadata": {},
   "source": [
    "## Building a Model with Hyperparameter Turning"
   ]
  },
  {
   "cell_type": "markdown",
   "id": "cc77f2d2",
   "metadata": {},
   "source": [
    "After we get the params we build a new model using best params"
   ]
  },
  {
   "cell_type": "code",
   "execution_count": 23,
   "id": "f0ca2a54",
   "metadata": {},
   "outputs": [],
   "source": [
    "# model with best param\n",
    "model_new = LogisticRegression(max_iter=100, n_jobs=None, penalty='none', solver='lbfgs')"
   ]
  },
  {
   "cell_type": "markdown",
   "id": "5e08c2ee",
   "metadata": {},
   "source": [
    "After that we train the model"
   ]
  },
  {
   "cell_type": "code",
   "execution_count": 24,
   "id": "4476b444",
   "metadata": {},
   "outputs": [],
   "source": [
    "train_model_new = model_new.fit(X_train_vect, y_train)"
   ]
  },
  {
   "cell_type": "markdown",
   "id": "9c5fff36",
   "metadata": {},
   "source": [
    "After that we test the new model"
   ]
  },
  {
   "cell_type": "code",
   "execution_count": 25,
   "id": "ad5c6f91",
   "metadata": {},
   "outputs": [],
   "source": [
    "y_pred_new = model_new.predict(X_test_vect)"
   ]
  },
  {
   "cell_type": "markdown",
   "id": "d75cb8ca",
   "metadata": {},
   "source": [
    "After that we make a report for the model"
   ]
  },
  {
   "cell_type": "code",
   "execution_count": 26,
   "id": "768b716b",
   "metadata": {},
   "outputs": [
    {
     "name": "stdout",
     "output_type": "stream",
     "text": [
      "              precision    recall  f1-score   support\n",
      "\n",
      "           0       0.80      0.76      0.78        21\n",
      "           1       0.88      0.90      0.89        42\n",
      "\n",
      "    accuracy                           0.86        63\n",
      "   macro avg       0.84      0.83      0.84        63\n",
      "weighted avg       0.86      0.86      0.86        63\n",
      "\n"
     ]
    },
    {
     "data": {
      "image/png": "[encoded data removed]",
      "text/plain": [
       "<Figure size 640x480 with 2 Axes>"
      ]
     },
     "metadata": {},
     "output_type": "display_data"
    }
   ],
   "source": [
    "# Classification report\n",
    "print(classification_report(y_test, y_pred_new))\n",
    "\n",
    "# Confusion Matrix\n",
    "class_label = [\"negative\", \"positive\"]\n",
    "df_cm = pd.DataFrame(confusion_matrix(y_test, y_pred_new), index=class_label, columns=class_label)\n",
    "sns.heatmap(df_cm, annot=True, fmt='d')\n",
    "plt.title(\"Confusion Matrix\")\n",
    "plt.xlabel(\"Predicted Label\")\n",
    "plt.ylabel(\"True Label\")\n",
    "plt.show()"
   ]
  },
  {
   "cell_type": "markdown",
   "id": "81effb4d",
   "metadata": {},
   "source": [
    "### Classification Report\n",
    "- From the table above we can see the precision for 0 variable is 0.80 and 1 variable is 0.88\n",
    "- From the table above we can see the recall for 0 variable is 0.76 and 1 variable is 0.90\n",
    "- From the table above we can  see the f1- score for 0 variable is 0.78 and 1 variable is 0.89\n",
    "- From the table above we can see the accuracy for this model 0.86"
   ]
  },
  {
   "cell_type": "markdown",
   "id": "6938ba1a",
   "metadata": {},
   "source": [
    "### Confusion Matrix\n",
    "There are 4 category in this matrix:\n",
    "- True Positive, the number of true positive is 38\n",
    "- True Negative, the number of true negative is 16\n",
    "- False Negative, the number of false negative is 4\n",
    "- False Positive, the number of false positive is 5"
   ]
  },
  {
   "cell_type": "markdown",
   "id": "a7b621fa",
   "metadata": {},
   "source": [
    "# Predictions"
   ]
  },
  {
   "cell_type": "markdown",
   "id": "84938b6a",
   "metadata": {},
   "source": [
    "Now we train the model using tf-idf dataset, and see the score"
   ]
  },
  {
   "cell_type": "code",
   "execution_count": 27,
   "id": "e923165b",
   "metadata": {},
   "outputs": [
    {
     "data": {
      "text/plain": [
       "0.8253968253968254"
      ]
     },
     "execution_count": 27,
     "metadata": {},
     "output_type": "execute_result"
    }
   ],
   "source": [
    "classifier = LogisticRegression(max_iter=100, n_jobs=None, penalty='none', solver='lbfgs')\n",
    "\n",
    "classifier.fit(tfidf_train, y_train)\n",
    "classifier.score(tfidf_test, y_test)"
   ]
  },
  {
   "cell_type": "markdown",
   "id": "e6e39f31",
   "metadata": {},
   "source": [
    "After that we make a list of sentence to test the model performace"
   ]
  },
  {
   "cell_type": "code",
   "execution_count": 28,
   "id": "db6d76b2",
   "metadata": {},
   "outputs": [
    {
     "name": "stdout",
     "output_type": "stream",
     "text": [
      "[0 1 0 1]\n"
     ]
    }
   ],
   "source": [
    "data = [\"Bad\", \"Good\", \"I hate the service, it's really bad\", \"The room is clean\"]\n",
    "vect = tfidf.transform(data).toarray()\n",
    "\n",
    "my_pred = classifier.predict(vect)\n",
    "print(my_pred)"
   ]
  },
  {
   "cell_type": "markdown",
   "id": "4ead4a89",
   "metadata": {},
   "source": [
    "<HR>"
   ]
  },
  {
   "cell_type": "markdown",
   "id": "3e585b1b",
   "metadata": {},
   "source": [
    "# Result"
   ]
  },
  {
   "cell_type": "markdown",
   "id": "6285d8d6",
   "metadata": {},
   "source": [
    "**How many hotel that has positive and negative review?**\n",
    "- From the barchart we can see hotel with **label 1** have value **70%**. And with **label 0** has **30%**. From this chart we can give recommendation to increase the service of hotel with **Label 0**, because **30** is a high number.\n",
    "\n",
    "**How many hotel based on their rating ?**\n",
    "- From the result above we can see that hotel with **5 ratings** have the highest value with **47.14%** and hotel **4 ratings** are **22.86%**. And hotel with **1 rating** have higher value than **2 rating** with **10.95%**. from this chart we can give a recommendation to increase the service of **1 rating** hotel, so they can get more good review.\n",
    "\n",
    "**How to produce modeling using Machine Learning to predict customer churn?**\n",
    "* To produce modeling using machine learning can use Logistic Regression. Logistic Regression is a classification technique used in machine learning. It uses a logistic function to model the dependent variable. The dependent variable is dichotomous in nature, in this case is hotel who has positive or negative reviews. We are using deafult threshold in this model to classify the hotel.\n",
    "* After using evaluation using this model we decided to use hyperparameter tunning to increase the model performance"
   ]
  },
  {
   "cell_type": "markdown",
   "id": "673407c2",
   "metadata": {},
   "source": [
    "# Recommendation"
   ]
  },
  {
   "cell_type": "markdown",
   "id": "770ab28a",
   "metadata": {},
   "source": [
    "- based on rating we can give a recommendation to increase the service of **1 rating** hotel, so they can get more good review.\n",
    "- based on label we can give recommendation to increase the service of hotel with **Label 0**, because **30%** is a high number."
   ]
  },
  {
   "cell_type": "code",
   "execution_count": null,
   "id": "273e34d8",
   "metadata": {},
   "outputs": [],
   "source": []
  }
 ],
 "metadata": {
  "kernelspec": {
   "display_name": "Python 3 (ipykernel)",
   "language": "python",
   "name": "python3"
  },
  "language_info": {
   "codemirror_mode": {
    "name": "ipython",
    "version": 3
   },
   "file_extension": ".py",
   "mimetype": "text/x-python",
   "name": "python",
   "nbconvert_exporter": "python",
   "pygments_lexer": "ipython3",
   "version": "3.9.13"
  }
 },
 "nbformat": 4,
 "nbformat_minor": 5
}
